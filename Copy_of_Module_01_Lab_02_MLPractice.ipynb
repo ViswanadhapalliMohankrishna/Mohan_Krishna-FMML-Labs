{
  "nbformat": 4,
  "nbformat_minor": 0,
  "metadata": {
    "colab": {
      "provenance": [],
      "include_colab_link": true
    },
    "kernelspec": {
      "name": "python3",
      "display_name": "Python 3"
    },
    "language_info": {
      "name": "python"
    }
  },
  "cells": [
    {
      "cell_type": "markdown",
      "metadata": {
        "id": "view-in-github",
        "colab_type": "text"
      },
      "source": [
        "<a href=\"https://colab.research.google.com/github/ViswanadhapalliMohankrishna/Mohan_Krishna-FMML-Labs/blob/main/Copy_of_Module_01_Lab_02_MLPractice.ipynb\" target=\"_parent\"><img src=\"https://colab.research.google.com/assets/colab-badge.svg\" alt=\"Open In Colab\"/></a>"
      ]
    },
    {
      "cell_type": "markdown",
      "metadata": {
        "id": "3Eu9VZbF01eq"
      },
      "source": [
        "# Machine learning terms and metrics\n",
        "\n",
        "FMML Module 1, Lab 2<br>\n",
        "\n",
        "\n",
        " In this lab, we will show a part of the ML pipeline by extracting features, training and testing"
      ]
    },
    {
      "cell_type": "code",
      "metadata": {
        "id": "8qBvyEem0vLi"
      },
      "source": [
        "import matplotlib.pyplot as plt\n",
        "import numpy as np\n",
        "from sklearn import datasets\n",
        "# set randomseed\n",
        "rng = np.random.default_rng(seed=42)"
      ],
      "execution_count": null,
      "outputs": []
    },
    {
      "cell_type": "markdown",
      "metadata": {
        "id": "u3t59g5s1HfC"
      },
      "source": [
        "In this lab, we will use the California Housing dataset. There are 20640 samples, each with 8 attributes like income of the block, age of the houses per district etc. The task is to predict the cost of the houses per district.\n",
        "\n",
        "Let us download and examine the dataset."
      ]
    },
    {
      "cell_type": "code",
      "metadata": {
        "id": "8LpqjN991GGJ",
        "colab": {
          "base_uri": "https://localhost:8080/"
        },
        "outputId": "7c843e37-b472-4d0e-8360-79cc96e01b4f"
      },
      "source": [
        " dataset =  datasets.fetch_california_housing()\n",
        " # print(dataset.DESCR)  # uncomment this if you want to know more about this dataset\n",
        " # print(dataset.keys())  # if you want to know what else is there in this dataset\n",
        " dataset.target = dataset.target.astype(np.int) # so that we can classify\n",
        " print(dataset.data.shape)\n",
        " print(dataset.target.shape)"
      ],
      "execution_count": null,
      "outputs": [
        {
          "output_type": "stream",
          "name": "stdout",
          "text": [
            "(20640, 8)\n",
            "(20640,)\n"
          ]
        },
        {
          "output_type": "stream",
          "name": "stderr",
          "text": [
            "<ipython-input-35-60ae2e9a125e>:4: DeprecationWarning: `np.int` is a deprecated alias for the builtin `int`. To silence this warning, use `int` by itself. Doing this will not modify any behavior and is safe. When replacing `np.int`, you may wish to use e.g. `np.int64` or `np.int32` to specify the precision. If you wish to review your current use, check the release note link for additional information.\n",
            "Deprecated in NumPy 1.20; for more details and guidance: https://numpy.org/devdocs/release/1.20.0-notes.html#deprecations\n",
            "  dataset.target = dataset.target.astype(np.int) # so that we can classify\n"
          ]
        }
      ]
    },
    {
      "cell_type": "markdown",
      "metadata": {
        "id": "iNx4174W5xRg"
      },
      "source": [
        "Here is a function for calculating the 1-nearest neighbours"
      ]
    },
    {
      "cell_type": "code",
      "metadata": {
        "id": "07zpydQj1hIQ"
      },
      "source": [
        "def NN1(traindata, trainlabel, query):\n",
        "  diff  = traindata - query  # find the difference between features. Numpy automatically takes care of the size here\n",
        "  sq = diff*diff # square the differences\n",
        "  dist = sq.sum(1) # add up the squares\n",
        "  label = trainlabel[np.argmin(dist)] # our predicted label is the label of the training data which has the least distance from the query\n",
        "  return label\n",
        "\n",
        "def NN(traindata, trainlabel, testdata):\n",
        "  # we will run nearest neighbour for each sample in the test data\n",
        "  # and collect the predicted classes in an array using list comprehension\n",
        "  predlabel = np.array([NN1(traindata, trainlabel, i) for i in testdata])\n",
        "  return predlabel"
      ],
      "execution_count": null,
      "outputs": []
    },
    {
      "cell_type": "markdown",
      "metadata": {
        "id": "03JktkfIGaje"
      },
      "source": [
        "We will also define a 'random classifier', which randomly allots labels to each sample"
      ]
    },
    {
      "cell_type": "code",
      "metadata": {
        "id": "fogWAtjyGhAH"
      },
      "source": [
        "def RandomClassifier(traindata, trainlabel, testdata):\n",
        "  # in reality, we don't need these arguments\n",
        "\n",
        "  classes = np.unique(trainlabel)\n",
        "  rints = rng.integers(low=0, high=len(classes), size=len(testdata))\n",
        "  predlabel = classes[rints]\n",
        "  return predlabel"
      ],
      "execution_count": null,
      "outputs": []
    },
    {
      "cell_type": "markdown",
      "metadata": {
        "id": "1Hjf1KHs7fU5"
      },
      "source": [
        "Let us define a metric 'Accuracy' to see how good our learning algorithm is. Accuracy is the ratio of the number of correctly classified samples to the total number of samples. The higher the accuracy, the better the algorithm."
      ]
    },
    {
      "cell_type": "code",
      "metadata": {
        "id": "ouuCqWU07bz-"
      },
      "source": [
        "def Accuracy(gtlabel, predlabel):\n",
        "  assert len(gtlabel)==len(predlabel), \"Length of the groundtruth labels and predicted labels should be the same\"\n",
        "  correct = (gtlabel==predlabel).sum() # count the number of times the groundtruth label is equal to the predicted label.\n",
        "  return correct/len(gtlabel)"
      ],
      "execution_count": null,
      "outputs": []
    },
    {
      "cell_type": "markdown",
      "metadata": {
        "id": "4vJFwBFa9Klw"
      },
      "source": [
        "Let us make a function to split the dataset with the desired probability."
      ]
    },
    {
      "cell_type": "code",
      "metadata": {
        "id": "Ko0VzpSM2Tdi"
      },
      "source": [
        "def split(data, label, percent):\n",
        "  # generate a random number for each sample\n",
        "  rnd = rng.random(len(label))\n",
        "  split1 = rnd<percent\n",
        "  split2 = rnd>=percent\n",
        "  split1data = data[split1,:]\n",
        "  split1label = label[split1]\n",
        "  split2data = data[split2,:]\n",
        "  split2label = label[split2]\n",
        "  return split1data, split1label, split2data, split2label"
      ],
      "execution_count": null,
      "outputs": []
    },
    {
      "cell_type": "markdown",
      "metadata": {
        "id": "AcK3LEAJ_LGC"
      },
      "source": [
        "We will reserve 20% of our dataset as the test set. We will not change this portion throughout our experiments"
      ]
    },
    {
      "cell_type": "code",
      "metadata": {
        "id": "bBZkHBLJ1iU-",
        "colab": {
          "base_uri": "https://localhost:8080/"
        },
        "outputId": "6a9275a9-17c3-48aa-b9cd-5c860fb0f969"
      },
      "source": [
        "testdata, testlabel, alltraindata, alltrainlabel = split(dataset.data, dataset.target, 20/100)\n",
        "print('Number of test samples = ', len(testlabel))\n",
        "print('Number of other samples = ', len(alltrainlabel))\n",
        "print('Percent of test data = ', len(testlabel)*100/len(dataset.target),'%')"
      ],
      "execution_count": null,
      "outputs": [
        {
          "output_type": "stream",
          "name": "stdout",
          "text": [
            "Number of test samples =  4144\n",
            "Number of other samples =  16496\n",
            "Percent of test data =  20.07751937984496 %\n"
          ]
        }
      ]
    },
    {
      "cell_type": "markdown",
      "metadata": {
        "id": "a6Ss0Z6IAGNV"
      },
      "source": [
        "## Experiments with splits\n",
        "\n",
        "Let us reserve some of our train data as a validation set"
      ]
    },
    {
      "cell_type": "code",
      "metadata": {
        "id": "WFew2iry_7W7"
      },
      "source": [
        "traindata, trainlabel, valdata, vallabel = split(alltraindata, alltrainlabel, 75/100)"
      ],
      "execution_count": null,
      "outputs": []
    },
    {
      "cell_type": "markdown",
      "metadata": {
        "id": "60hiu4clFN1i"
      },
      "source": [
        "What is the accuracy of our classifiers on the train dataset?"
      ]
    },
    {
      "cell_type": "code",
      "metadata": {
        "id": "DBlZDTHUFTZx",
        "colab": {
          "base_uri": "https://localhost:8080/"
        },
        "outputId": "962bc1ee-6eb7-4a8e-b87d-abf058080b27"
      },
      "source": [
        "trainpred = NN(traindata, trainlabel, traindata)\n",
        "trainAccuracy = Accuracy(trainlabel, trainpred)\n",
        "print(\"Train accuracy using nearest neighbour is \", trainAccuracy)\n",
        "\n",
        "trainpred = RandomClassifier(traindata, trainlabel, traindata)\n",
        "trainAccuracy = Accuracy(trainlabel, trainpred)\n",
        "print(\"Train accuracy using random classifier is \", trainAccuracy)"
      ],
      "execution_count": null,
      "outputs": [
        {
          "output_type": "stream",
          "name": "stdout",
          "text": [
            "Train accuracy using nearest neighbour is  1.0\n",
            "Train accuracy using random classifier is  0.164375808538163\n"
          ]
        }
      ]
    },
    {
      "cell_type": "markdown",
      "metadata": {
        "id": "7h08-9gJDtSy"
      },
      "source": [
        "For nearest neighbour, the train accuracy is always 1. The accuracy of the random classifier is close to 1/(number of classes) which is 0.1666 in our case.\n",
        "\n",
        "Let us predict the labels for our validation set and get the accuracy"
      ]
    },
    {
      "cell_type": "code",
      "metadata": {
        "id": "4h7bXoW_2H3v",
        "colab": {
          "base_uri": "https://localhost:8080/"
        },
        "outputId": "0fb96ac7-b378-4f74-9378-b0c1f33db0dc"
      },
      "source": [
        "valpred = NN(traindata, trainlabel, valdata)\n",
        "valAccuracy = Accuracy(vallabel, valpred)\n",
        "print(\"Validation accuracy using nearest neighbour is \", valAccuracy)\n",
        "\n",
        "valpred = RandomClassifier(traindata, trainlabel, valdata)\n",
        "valAccuracy = Accuracy(vallabel, valpred)\n",
        "print(\"Validation accuracy using random classifier is \", valAccuracy)"
      ],
      "execution_count": null,
      "outputs": [
        {
          "output_type": "stream",
          "name": "stdout",
          "text": [
            "Validation accuracy using nearest neighbour is  0.34108527131782945\n",
            "Validation accuracy using random classifier is  0.1688468992248062\n"
          ]
        }
      ]
    },
    {
      "cell_type": "markdown",
      "metadata": {
        "id": "py9bLguFEjfg"
      },
      "source": [
        "Validation accuracy of nearest neighbour is considerably less than its train accuracy while the validation accuracy of random classifier is the same. However, the validation accuracy of nearest neighbour is twice that of the random classifier.\n",
        "\n",
        "Now let us try another random split and check the validation accuracy"
      ]
    },
    {
      "cell_type": "code",
      "metadata": {
        "id": "ujm3cyYzEntE",
        "colab": {
          "base_uri": "https://localhost:8080/"
        },
        "outputId": "70eef3e2-6bc8-496b-9fa3-34c535a947c3"
      },
      "source": [
        "traindata, trainlabel, valdata, vallabel = split(alltraindata, alltrainlabel, 75/100)\n",
        "valpred = NN(traindata, trainlabel, valdata)\n",
        "valAccuracy = Accuracy(vallabel, valpred)\n",
        "print(\"Validation accuracy of nearest neighbour is \", valAccuracy)"
      ],
      "execution_count": null,
      "outputs": [
        {
          "output_type": "stream",
          "name": "stdout",
          "text": [
            "Validation accuracy of nearest neighbour is  0.34048257372654156\n"
          ]
        }
      ]
    },
    {
      "cell_type": "markdown",
      "metadata": {
        "id": "oSOx7U83EKie"
      },
      "source": [
        "You can run the above cell multiple times to try with different random splits.\n",
        "We notice that the accuracy is different for each run, but close together.\n",
        "\n",
        "Now let us compare it with the accuracy we get on the test dataset."
      ]
    },
    {
      "cell_type": "code",
      "metadata": {
        "id": "PNEZ5ToYBEDW",
        "colab": {
          "base_uri": "https://localhost:8080/"
        },
        "outputId": "8e56b7d5-3b0e-47fe-e55b-3ee58cd33959"
      },
      "source": [
        "testpred = NN(alltraindata, alltrainlabel, testdata)\n",
        "testAccuracy = Accuracy(testlabel, testpred)\n",
        "print('Test accuracy is ', testAccuracy)"
      ],
      "execution_count": null,
      "outputs": [
        {
          "output_type": "stream",
          "name": "stdout",
          "text": [
            "Test accuracy is  0.34917953667953666\n"
          ]
        }
      ]
    },
    {
      "cell_type": "markdown",
      "metadata": {
        "id": "w3dGD531K3gH"
      },
      "source": [
        "### Try it out for yourself and answer:\n",
        "1. How is the accuracy of the validation set affected if we increase the percentage of validation set? What happens when we reduce it?\n",
        "2. How does the size of the train and validation set affect how well we can predict the accuracy on the test set using the validation set?\n",
        "3. What do you think is a good percentage to reserve for the validation set so that thest two factors are balanced?\n",
        "\n",
        "Answer for both nearest neighbour and random classifier. You can note down the values for your experiments and plot a graph using  <a href=https://matplotlib.org/stable/gallery/lines_bars_and_markers/step_demo.html#sphx-glr-gallery-lines-bars-and-markers-step-demo-py>plt.plot<href>. Check also for extreme values for splits, like 99.9% or 0.1%"
      ]
    },
    {
      "cell_type": "markdown",
      "source": [
        "1.How is the accuracy of the validation set affected if we increase the percentage of validation set? What happens when we reduce it?"
      ],
      "metadata": {
        "id": "2kvMpPcuCbu7"
      }
    },
    {
      "cell_type": "markdown",
      "source": [
        "The accuracy of a validation set can be affected when you increase or decrease the percentage of data allocated to it during model training.\n",
        "\n",
        "1. *Increasing the Percentage of Validation Set:*\n",
        "   - *Positive Impact:* A larger validation set can provide a more representative sample of your data. It can help your model generalize better by evaluating its performance on a wider range of data points. This can lead to a more accurate estimate of your model's performance on unseen data, potentially resulting in a more reliable validation accuracy.\n",
        "\n",
        "   - *Negative Impact:* However, increasing the validation set size means you have fewer training data points. This can lead to longer training times, and if your dataset is limited, it may result in underfitting, where your model struggles to learn from the data due to insufficient training samples.\n",
        "\n",
        "2. *Reducing the Percentage of Validation Set:*\n",
        "   - *Positive Impact:* A smaller validation set can allow for a larger training set, which can be beneficial if you have limited data. It may lead to shorter training times and a model that learns more effectively from the available training data. This can help mitigate underfitting.\n",
        "\n",
        "   - *Negative Impact:* Conversely, reducing the validation set size can result in a less reliable estimate of your model's performance. If the validation set is too small, it may not capture the diversity of data that your model will encounter in the real world, potentially leading to overfitting, where the model performs well on the validation set but poorly on new, unseen data.\n",
        "\n",
        "The choice of the percentage of the validation set depends on the specific dataset, model complexity, and the trade-off between training and validation data. It's often recommended to use techniques like cross-validation or hold-out validation sets to find an appropriate balance that helps ensure your model generalizes well to unseen data."
      ],
      "metadata": {
        "id": "ZNtyoczDCjrB"
      }
    },
    {
      "cell_type": "markdown",
      "source": [
        "2.How does the size of the train and validation set affect how well we can predict the accuracy on the test set using the validation set?"
      ],
      "metadata": {
        "id": "4bmeoaPpCOIA"
      }
    },
    {
      "cell_type": "markdown",
      "source": [
        "The size of the train and validation sets can indeed affect how well you can predict the accuracy on the test set using the validation set. Here's how:\n",
        "\n",
        "1. *Larger Validation Set:*\n",
        "   - If you have a larger validation set, it tends to provide a more reliable estimate of your model's performance. With more data points in the validation set, it is more likely to reflect the overall characteristics of your dataset.\n",
        "   - This can lead to a better prediction of how your model will perform on the test set because your validation set closely resembles the distribution of your data.\n",
        "\n",
        "2. *Smaller Validation Set:*\n",
        "   - A smaller validation set may not capture the diversity of your dataset as effectively. It might be more susceptible to random variations or noise, which can result in less accurate predictions of test set performance.\n",
        "   - With a small validation set, there's a higher chance that your validation accuracy might not be representative of your model's true generalization performance.\n",
        "\n",
        "In summary, a larger and more representative validation set is more likely to provide a better estimate of your model's performance on the test set. However, it's crucial to strike a balance between the size of the training set and the validation set, as too large of a validation set can lead to insufficient training data and potential underfitting. Techniques like cross-validation and careful dataset splitting can help find the right balance for your specific machine learning task."
      ],
      "metadata": {
        "id": "sG61jqv_CV3q"
      }
    },
    {
      "cell_type": "markdown",
      "source": [
        "3.What do you think is a good percentage to reserve for the validation set so that thest two factors are balanced?"
      ],
      "metadata": {
        "id": "rklHGYpYByih"
      }
    },
    {
      "cell_type": "markdown",
      "source": [
        "The percentage of data to reserve for the validation set can vary depending on the size and nature of your dataset, as well as the specific machine learning task. However, a common practice is to use an 80-20 or 70-30 split for training and validation, respectively. Here's a rough guideline:\n",
        "\n",
        "1. *80-20 Split (Training-Validation):*\n",
        "   - This split is commonly used when you have a relatively large dataset. It provides a substantial amount of data for training while still reserving a reasonable portion for validation. It strikes a balance between model learning and performance estimation.\n",
        "\n",
        "2. *70-30 Split (Training-Validation):*\n",
        "   - If your dataset is smaller, a 70-30 split can be more appropriate. It allocates a larger proportion to training, allowing your model to learn more from the available data, while still maintaining a reasonably sized validation set for performance assessment.\n",
        "\n",
        "These splits are not strict rules but starting points. You may need to adjust them based on your specific situation. Consider the following factors when determining the split:\n",
        "\n",
        "- *Dataset Size:* Smaller datasets may require a larger validation set to ensure a reliable estimate of model performance.\n",
        "\n",
        "- *Complexity of the Model:* More complex models often benefit from larger training sets, so you may allocate more data to training if you're using a complex architecture.\n",
        "\n",
        "- *Available Computational Resources:* If training with a larger training set takes a significant amount of time or resources, you might lean toward a larger validation set to reduce training time.\n",
        "\n",
        "- *Data Imbalance:* If your dataset has imbalanced classes, techniques like stratified sampling should be used to ensure that both training and validation sets maintain class distribution.\n",
        "\n",
        "Ultimately, the goal is to find a balance that allows your model to train effectively while providing a reliable estimate of how it will perform on unseen data. You can also consider techniques like cross-validation to further improve your model evaluation if you have limited data. Experimenting with different splits and techniques can help you determine the most suitable setup for your specific machine learning task."
      ],
      "metadata": {
        "id": "m7IJbpAGB0c4"
      }
    },
    {
      "cell_type": "markdown",
      "metadata": {
        "id": "PnYvkAZLQY7h"
      },
      "source": [
        "## Multiple Splits\n",
        "\n",
        "One way to get more accurate estimates for the test accuracy is by using <b>crossvalidation</b>. Here, we will try a simple version, where we do multiple train/val splits and take the average of validation accuracies as the test accuracy estimation. Here is a function for doing this. Note that this function will take a long time to execute."
      ]
    },
    {
      "cell_type": "code",
      "metadata": {
        "id": "E4nGCUQXBTzo"
      },
      "source": [
        "# you can use this function for random classifier also\n",
        "def AverageAccuracy(alldata, alllabel, splitpercent, iterations, classifier=NN):\n",
        "  accuracy = 0\n",
        "  for ii in range(iterations):\n",
        "    traindata, trainlabel, valdata, vallabel = split(alldata, alllabel, splitpercent)\n",
        "    valpred = classifier(traindata, trainlabel, valdata)\n",
        "    accuracy += Accuracy(vallabel, valpred)\n",
        "  return accuracy/iterations # average of all accuracies"
      ],
      "execution_count": null,
      "outputs": []
    },
    {
      "cell_type": "code",
      "metadata": {
        "id": "H3qtNar7Bbik",
        "colab": {
          "base_uri": "https://localhost:8080/"
        },
        "outputId": "7c7cc036-e5bc-4f06-c213-4747101fe95d"
      },
      "source": [
        "print('Average validation accuracy is ', AverageAccuracy(alltraindata, alltrainlabel, 75/100, 10, classifier=NN))\n",
        "testpred = NN(alltraindata, alltrainlabel, testdata)\n",
        "print('test accuracy is ',Accuracy(testlabel, testpred) )"
      ],
      "execution_count": null,
      "outputs": [
        {
          "output_type": "stream",
          "name": "stdout",
          "text": [
            "Average validation accuracy is  0.33584635395170215\n",
            "test accuracy is  0.34917953667953666\n"
          ]
        }
      ]
    },
    {
      "cell_type": "markdown",
      "source": [
        "# 2.Does it give more accurate estimate of test accuracy?"
      ],
      "metadata": {
        "id": "ioXcP2OiDhKo"
      }
    },
    {
      "cell_type": "markdown",
      "source": [
        "Averaging validation accuracy across multiple splits in techniques like k-fold cross-validation can provide a more accurate estimate of how your model is likely to perform on unseen data compared to a single validation split. However, it's important to note that the validation accuracy obtained through cross-validation is still an estimate and may not be identical to the test accuracy you'll achieve when your model is deployed in a real-world scenario. Test accuracy is the most accurate measure of your model's performance, but cross-validation is a valuable tool for estimating it and assessing model stability and generalization."
      ],
      "metadata": {
        "id": "H0ahiSLfDrnf"
      }
    },
    {
      "cell_type": "markdown",
      "source": [
        "# 3. What is the effect of the number of iterations on the estimate? Do we get a better estimate with higher iterations?"
      ],
      "metadata": {
        "id": "xQJZYHNEDz00"
      }
    },
    {
      "cell_type": "markdown",
      "source": [
        "The number of iterations (or folds) in techniques like k-fold cross-validation can have an impact on the estimate of your model's performance. Generally:\n",
        "\n",
        "1. *More Iterations*: Increasing the number of iterations typically leads to a more robust and reliable estimate of your model's performance. This is because the data is partitioned into more subsets, allowing your model to be trained and validated on a larger variety of data.\n",
        "\n",
        "2. *Higher Computational Cost*: However, more iterations also require more computational resources and time. So, there's a trade-off between computational cost and the quality of the estimate.\n",
        "\n",
        "3. *Diminishing Returns*: There is a point of diminishing returns where increasing the number of iterations doesn't significantly improve the estimate. The choice of the number of iterations often depends on the specific dataset and the computational resources available.\n",
        "\n",
        "In practice, common choices for k in k-fold cross-validation are 5 or 10, but the optimal value can vary depending on your dataset and the problem you're trying to solve. It's a good practice to experiment with different values of k to find the one that provides a good balance between accuracy and computational cost for your specific case."
      ],
      "metadata": {
        "id": "3_6o5BpaD2H5"
      }
    },
    {
      "cell_type": "markdown",
      "source": [
        "# 4. Consider the results you got for the previous questions. Can we deal with a very small train dataset or validation dataset by increasing the iterations?"
      ],
      "metadata": {
        "id": "P8_Kbo7kEWBQ"
      }
    },
    {
      "cell_type": "markdown",
      "source": [
        "Increasing the number of iterations in techniques like k-fold cross-validation can help mitigate the effects of having a very small training dataset to some extent. However, it's essential to understand the limitations:\n",
        "\n",
        "1. *Small Training Dataset*: If your training dataset is very small, there's only so much you can do to improve model performance. Increasing iterations won't magically generate more data. It can help in terms of better estimating how your model generalizes from the limited data you have, but it won't fundamentally overcome the limitations of a small dataset.\n",
        "\n",
        "2. *Validation Dataset*: Increasing iterations can provide a more stable estimate of model performance on the validation dataset. However, it doesn't increase the size of the validation dataset itself. If your validation dataset is also small, there may still be a risk of overfitting to that particular subset of data.\n",
        "\n",
        "3. *Model Complexity*: If you have a very small training dataset, it's crucial to be cautious about using complex models because they are more prone to overfitting. Consider using simpler models or techniques like regularization to prevent overfitting.\n",
        "\n",
        "In summary, while increasing iterations in cross-validation can help in cases with small datasets, it's essential to address the underlying issue of dataset size and model complexity to build a robust and reliable machine learning model. Increasing iterations is not a substitute for having a sufficiently large and diverse dataset."
      ],
      "metadata": {
        "id": "CaDrlwM5Ecns"
      }
    },
    {
      "cell_type": "markdown",
      "source": [
        "# 1.Does averaging the validation accuracy across multiple splits give more consistent results?"
      ],
      "metadata": {
        "id": "9zAXLpVjEF0R"
      }
    },
    {
      "cell_type": "markdown",
      "source": [
        "Yes, averaging the validation accuracy across multiple splits, such as in k-fold cross-validation, can provide more consistent and reliable results compared to a single validation split. It helps reduce the impact of random data partitioning and provides a more robust estimate of your model's performance on unseen data."
      ],
      "metadata": {
        "id": "Z8DM22BFEIrW"
      }
    }
  ]
}